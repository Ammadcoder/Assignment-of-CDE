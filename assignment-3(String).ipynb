{
 "cells": [
  {
   "cell_type": "markdown",
   "id": "b50df037-d371-46fb-8a39-b146c22e1fb0",
   "metadata": {},
   "source": [
    "## Program1:"
   ]
  },
  {
   "cell_type": "code",
   "execution_count": 6,
   "id": "92be6f63-8319-4ac6-865a-37c8975ec75f",
   "metadata": {},
   "outputs": [
    {
     "name": "stdin",
     "output_type": "stream",
     "text": [
      "Enter your String:  ammad\n"
     ]
    },
    {
     "name": "stdout",
     "output_type": "stream",
     "text": [
      "2\n"
     ]
    }
   ],
   "source": [
    "vowels = \"aeiouAEIOU\"\n",
    "str = input(\"Enter your String: \")\n",
    "count = 0\n",
    "for char in str:\n",
    "    if char in vowels:\n",
    "        count+=1\n",
    "print(count)"
   ]
  },
  {
   "cell_type": "markdown",
   "id": "027c95e0-2cbf-4c78-8c90-74e1fb012315",
   "metadata": {},
   "source": [
    "## Program 2:\n"
   ]
  },
  {
   "cell_type": "code",
   "execution_count": 47,
   "id": "9653d17b-fe2e-4c0c-b891-11d5608714a3",
   "metadata": {},
   "outputs": [
    {
     "name": "stdin",
     "output_type": "stream",
     "text": [
      "Enter String:  sddf\n"
     ]
    },
    {
     "name": "stdout",
     "output_type": "stream",
     "text": [
      "upper case = 0\n",
      "lower case = 4\n",
      "digit case = 0\n",
      "whitespace case = 0\n"
     ]
    }
   ],
   "source": [
    "str1 = input(\"Enter String: \")\n",
    "uppercase_count = 0\n",
    "lowercase_count = 0\n",
    "digit_count = 0\n",
    "whitespace_count = 0\n",
    "\n",
    "for char in str1:\n",
    "    \n",
    "    if char.isupper():\n",
    "        uppercase_count +=1\n",
    "    elif char.islower():\n",
    "        lowercase_count +=1\n",
    "    elif char.isdigit():\n",
    "        digit_count +=1\n",
    "    elif char.isspace():\n",
    "        whitespace_count +=1\n",
    "print(f\"upper case = {uppercase_count}\")\n",
    "print(f\"lower case = {lowercase_count}\")\n",
    "print(f\"digit case = {digit_count}\")\n",
    "print(f\"whitespace case = {whitespace_count}\")"
   ]
  },
  {
   "cell_type": "markdown",
   "id": "48ea045a-73f6-4e81-8622-a5c6c7fae81d",
   "metadata": {},
   "source": [
    "## Program 3:"
   ]
  },
  {
   "cell_type": "code",
   "execution_count": 5,
   "id": "29f80ceb-7482-41c8-a71c-4763452400c2",
   "metadata": {},
   "outputs": [
    {
     "name": "stdin",
     "output_type": "stream",
     "text": [
      "Enter String:  amamd\n"
     ]
    },
    {
     "name": "stdout",
     "output_type": "stream",
     "text": [
      "the original string: amamd\n",
      "swapped string:  dmama\n"
     ]
    }
   ],
   "source": [
    "str2 = input(\"Enter String: \")\n",
    "if len(str2)<1:\n",
    "    print(\"more than one string\")\n",
    "else:\n",
    "    new_str = str2[-1] + str2[1:-1] +str2[0] \n",
    "print(f\"the original string: {str2}\")\n",
    "print(f\"swapped string:  {new_str}\")"
   ]
  },
  {
   "cell_type": "markdown",
   "id": "345df955-1007-470b-bbd2-900216a937e1",
   "metadata": {},
   "source": [
    "## Program 4:\n"
   ]
  },
  {
   "cell_type": "code",
   "execution_count": 13,
   "id": "ea3562d4-f69f-40b4-a844-fcac4eda5e40",
   "metadata": {},
   "outputs": [
    {
     "name": "stdin",
     "output_type": "stream",
     "text": [
      "Enter String:  exam\n"
     ]
    },
    {
     "name": "stdout",
     "output_type": "stream",
     "text": [
      "maxe\n"
     ]
    }
   ],
   "source": [
    "str3 = input(\"Enter String: \")\n",
    "reverse_string = str3[::-1]\n",
    "print(reverse_string)"
   ]
  },
  {
   "cell_type": "markdown",
   "id": "785c0568-d40d-4b67-953e-a9aab9e588d7",
   "metadata": {},
   "source": [
    "## Program 5:\n"
   ]
  },
  {
   "cell_type": "code",
   "execution_count": 17,
   "id": "671a512b-9174-4080-a172-eb98ef21540c",
   "metadata": {},
   "outputs": [
    {
     "name": "stdin",
     "output_type": "stream",
     "text": [
      "Enter String:  tybbg5\n"
     ]
    },
    {
     "name": "stdout",
     "output_type": "stream",
     "text": [
      "ybbg5t\n"
     ]
    }
   ],
   "source": [
    "s = input(\"Enter String: \")\n",
    "new_str = s[1:] + s[0]\n",
    "print(new_str)"
   ]
  },
  {
   "cell_type": "markdown",
   "id": "5ff98e1a-5e78-4ded-969c-db78688c8156",
   "metadata": {},
   "source": [
    "## Program 6:\n"
   ]
  },
  {
   "cell_type": "code",
   "execution_count": 30,
   "id": "7eda1fb2-d407-42b1-aa31-2f8df9b36966",
   "metadata": {},
   "outputs": [
    {
     "name": "stdin",
     "output_type": "stream",
     "text": [
      "Enter String:  mjj NF\n"
     ]
    },
    {
     "name": "stdout",
     "output_type": "stream",
     "text": [
      "m.N.\n"
     ]
    }
   ],
   "source": [
    "name = input(\"Enter String: \")\n",
    "if name and name[0] != \" \":\n",
    "    print(name[0], end = \".\")\n",
    "i = 1\n",
    "while i < len(name):\n",
    "    if name[i-1] == \" \" and name [i] != \" \":\n",
    "        print(name[i] , end= \".\")\n",
    "    i +=1\n",
    "print()"
   ]
  },
  {
   "cell_type": "markdown",
   "id": "566fffb9-dd5a-4584-aede-fef253a24f42",
   "metadata": {},
   "source": [
    "## Program 7\n"
   ]
  },
  {
   "cell_type": "code",
   "execution_count": 36,
   "id": "4dd9e5ae-ee45-40e8-adf4-1571b2c0082d",
   "metadata": {},
   "outputs": [
    {
     "name": "stdin",
     "output_type": "stream",
     "text": [
      "Enter Name:  dad\n"
     ]
    },
    {
     "name": "stdout",
     "output_type": "stream",
     "text": [
      "It is a Palidrome\n"
     ]
    }
   ],
   "source": [
    "str4 = input(\"Enter Name: \")\n",
    "reverse_string = str4[::-1]\n",
    "if (str4 == reverse_string):\n",
    "    print(\"It is a Palidrome\")\n",
    "else:\n",
    "    print(\"Error\")"
   ]
  },
  {
   "cell_type": "markdown",
   "id": "725b63e1-baef-428e-b485-6fd5507cf748",
   "metadata": {},
   "source": [
    "## Program 8:\n"
   ]
  },
  {
   "cell_type": "code",
   "execution_count": 41,
   "id": "8623c514-eea6-47f3-b07a-32b4bc8aedd7",
   "metadata": {},
   "outputs": [
    {
     "name": "stdin",
     "output_type": "stream",
     "text": [
      "Enter Name:  SHIFT\n"
     ]
    },
    {
     "name": "stdout",
     "output_type": "stream",
     "text": [
      "SHIFT\n",
      "HIFTS\n",
      "IFTSH\n",
      "FTSHI\n",
      "TSHIF\n"
     ]
    }
   ],
   "source": [
    "word = input(\"Enter Name: \")\n",
    "\n",
    "for i in range(len(word)):\n",
    "    rotation = word[i:] + word[:i]\n",
    "    print(rotation)\n"
   ]
  },
  {
   "cell_type": "markdown",
   "id": "0fd729e0-0178-4768-92d6-5606ecc4790d",
   "metadata": {},
   "source": [
    "## Program 9:\n"
   ]
  },
  {
   "cell_type": "code",
   "execution_count": 54,
   "id": "63a93d35-12ab-4aff-a41c-966e39052f7b",
   "metadata": {},
   "outputs": [
    {
     "name": "stdin",
     "output_type": "stream",
     "text": [
      "Enter your password:  vv\n"
     ]
    },
    {
     "name": "stdout",
     "output_type": "stream",
     "text": [
      " Invalid Password\n",
      "Password must have at least 8 characters:\n",
      "One uppercase letter\n",
      "One lowercase letter\n",
      "One digit\n"
     ]
    }
   ],
   "source": [
    "password = input(\"Enter your password: \")\n",
    "\n",
    "has_upper = False\n",
    "has_lower = False\n",
    "has_digit = False\n",
    "has_length = len(password) >= 8\n",
    "\n",
    "for ch in password:\n",
    "    if ch.isupper():\n",
    "        has_upper = True\n",
    "    if ch.islower():\n",
    "        has_lower = True\n",
    "    if ch.isdigit():\n",
    "        has_digit = True\n",
    "\n",
    "if (has_upper and has_lower and has_digit and has_length):\n",
    "    print(\"Valid Password\")\n",
    "else:\n",
    "    print(\" Invalid Password\")\n",
    "    print(\"Password must have at least 8 characters:\")\n",
    "    print(\"One uppercase letter\")\n",
    "    print(\"One lowercase letter\")\n",
    "    print(\"One digit\")\n"
   ]
  },
  {
   "cell_type": "code",
   "execution_count": null,
   "id": "5c72c7c5-edfb-4592-bf0f-4be9fa90b2da",
   "metadata": {},
   "outputs": [],
   "source": []
  }
 ],
 "metadata": {
  "kernelspec": {
   "display_name": "Python 3 (ipykernel)",
   "language": "python",
   "name": "python3"
  },
  "language_info": {
   "codemirror_mode": {
    "name": "ipython",
    "version": 3
   },
   "file_extension": ".py",
   "mimetype": "text/x-python",
   "name": "python",
   "nbconvert_exporter": "python",
   "pygments_lexer": "ipython3",
   "version": "3.13.5"
  }
 },
 "nbformat": 4,
 "nbformat_minor": 5
}
