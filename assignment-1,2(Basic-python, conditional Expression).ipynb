{
 "cells": [
  {
   "cell_type": "markdown",
   "id": "c4a0bc01-dce0-4056-a7db-6924c1324214",
   "metadata": {},
   "source": [
    "1- Print Your Name with your Father name and Date of birth using suitable escape sequence charactor\n"
   ]
  },
  {
   "cell_type": "code",
   "execution_count": 5,
   "id": "b5e23f71-92fe-45fe-8351-ce7ffe0f6700",
   "metadata": {
    "scrolled": true
   },
   "outputs": [
    {
     "name": "stdout",
     "output_type": "stream",
     "text": [
      "my_name: Ammad \n",
      "Father_name: Hafeez \n",
      "DOB: 4-7-2006\n"
     ]
    }
   ],
   "source": [
    "print(\"my_name: Ammad \\nFather_name: Hafeez \\nDOB: 4-7-2006\")"
   ]
  },
  {
   "cell_type": "markdown",
   "id": "abf7e646-8a11-44eb-8158-7a5036c616e0",
   "metadata": {},
   "source": [
    "2- Write your small bio using variables and print it using print function\n"
   ]
  },
  {
   "cell_type": "code",
   "execution_count": 13,
   "id": "260328c4-7cb0-4ece-98b2-8d0cd94ac77c",
   "metadata": {},
   "outputs": [
    {
     "name": "stdout",
     "output_type": "stream",
     "text": [
      "My name is Ammad, my father name is Hafeez, my Date  name is 4-7-2006\n"
     ]
    }
   ],
   "source": [
    "my_name = \"Ammad\"\n",
    "Father_name = \"Hafeez\" \n",
    "DOB = \"4-7-2006\"\n",
    "print(f\"My name is {my_name}, my father name is {Father_name}, my Date  name is {DOB}\")"
   ]
  },
  {
   "cell_type": "markdown",
   "id": "54992c7b-df75-42bd-9826-a0bb0dc52b78",
   "metadata": {},
   "source": [
    "3- Write a program in which use all the operators we can use in Python\n"
   ]
  },
  {
   "cell_type": "code",
   "execution_count": 2,
   "id": "d7b72fd3-d452-4fc2-b28c-328bc1fb1d7d",
   "metadata": {},
   "outputs": [
    {
     "name": "stdout",
     "output_type": "stream",
     "text": [
      "Arithmetic Operators:\n",
      "a + b = 13\n",
      "a - b = 7\n",
      "a * b = 30\n",
      "a / b = 3.3333333333333335\n",
      "a % b = 1\n",
      "a ** b = 1000\n",
      "a // b = 3\n",
      "\n",
      "Comparison Operators:\n",
      "a == b: False\n",
      "a != b: True\n",
      "a > b: True\n",
      "a < b: False\n",
      "a >= b: True\n",
      "a <= b: False\n",
      "\n",
      "Logical Operators:\n",
      "a > 5 and b < 5: True\n",
      "a > 5 or b > 5: True\n",
      "not(a > b): False\n"
     ]
    }
   ],
   "source": [
    "a = 10\n",
    "b = 3\n",
    "print(\"Arithmetic Operators:\")\n",
    "print(\"a + b =\", a + b)\n",
    "print(\"a - b =\", a - b)\n",
    "print(\"a * b =\", a * b)\n",
    "print(\"a / b =\", a / b)\n",
    "print(\"a % b =\", a % b)\n",
    "print(\"a ** b =\", a ** b)   \n",
    "print(\"a // b =\", a // b)   \n",
    "\n",
    "print(\"\\nComparison Operators:\")\n",
    "print(\"a == b:\", a == b)\n",
    "print(\"a != b:\", a != b)\n",
    "print(\"a > b:\", a > b)\n",
    "print(\"a < b:\", a < b)\n",
    "print(\"a >= b:\", a >= b)\n",
    "print(\"a <= b:\", a <= b)\n",
    "\n",
    "print(\"\\nLogical Operators:\")\n",
    "print(\"a > 5 and b < 5:\", a > 5 and b < 5)\n",
    "print(\"a > 5 or b > 5:\", a > 5 or b > 5)\n",
    "print(\"not(a > b):\", not(a > b))"
   ]
  },
  {
   "cell_type": "markdown",
   "id": "c346e897-3b67-473e-8c72-08c887e442f1",
   "metadata": {},
   "source": [
    "## Completes the following steps of small task\n",
    "4- Mention Marks of English , Islamiat and Maths out of 100 in 3 different variables\n",
    "Mention Variable of Total Marks and assign 300 to it\n",
    "Calculate Percentage"
   ]
  },
  {
   "cell_type": "code",
   "execution_count": 26,
   "id": "9af1ed04-ccf8-4798-8d2f-06cab1a69d5e",
   "metadata": {},
   "outputs": [
    {
     "name": "stdout",
     "output_type": "stream",
     "text": [
      "84.0\n"
     ]
    }
   ],
   "source": [
    "English = 80\n",
    "Math = 85\n",
    "Islamiat = 87\n",
    "Total_marks = 300\n",
    "obtained_marks = English + Math + Islamiat\n",
    "percentage = (obtained_marks/Total_marks)*100\n",
    "print(percentage)"
   ]
  },
  {
   "cell_type": "markdown",
   "id": "c66047eb-8c2e-4312-8712-57945571b4ca",
   "metadata": {},
   "source": [
    "5- A company decided to give bonus of 5% to employee if his/her year of service is more than 5 years. Ask user for their salary and year of service and print the net bonus amount."
   ]
  },
  {
   "cell_type": "code",
   "execution_count": 29,
   "id": "eedb8c5d-587b-47e2-aac0-f9193c7749bb",
   "metadata": {},
   "outputs": [
    {
     "name": "stdin",
     "output_type": "stream",
     "text": [
      "Enter Your Salary:  50000\n",
      "Enter YOur year of service:  9\n"
     ]
    },
    {
     "name": "stdout",
     "output_type": "stream",
     "text": [
      "2500.0\n"
     ]
    }
   ],
   "source": [
    "salary = int(input(\"Enter Your Salary: \"))\n",
    "YOS = int(input(\"Enter YOur year of service: \"))\n",
    "if(YOS>5):\n",
    "    bonus_amt = salary*0.05\n",
    "    print(bonus_amt)\n",
    "else:\n",
    "    print(\"You are not Eligible for bonus\")"
   ]
  },
  {
   "cell_type": "markdown",
   "id": "643a3c9d-eeda-4f6d-99ef-b6f075391fb2",
   "metadata": {},
   "source": [
    "6- Write a program to check whether a person is eligible for voting or not. (accept age from user) if age is greater than 17 eligible otherwise not eligible"
   ]
  },
  {
   "cell_type": "code",
   "execution_count": 33,
   "id": "ec8053ed-d4f0-497d-a325-79a7aca3ec23",
   "metadata": {},
   "outputs": [
    {
     "name": "stdin",
     "output_type": "stream",
     "text": [
      "enter age:  12\n"
     ]
    },
    {
     "name": "stdout",
     "output_type": "stream",
     "text": [
      "You are not Eligible for Voting\n"
     ]
    }
   ],
   "source": [
    "age = int(input(\"enter age: \"))\n",
    "if(age>17):\n",
    "    print(\"You Are Eligible for Voting\")\n",
    "else:\n",
    "    print(\"You are not Eligible for Voting\")"
   ]
  },
  {
   "cell_type": "markdown",
   "id": "da7b261d-1cdf-4c06-89d9-c255368084ff",
   "metadata": {},
   "source": [
    "7- Write a program to check whether a number entered by user is even or odd."
   ]
  },
  {
   "cell_type": "code",
   "execution_count": 36,
   "id": "e2e31186-903d-4d16-bcb3-27f84f7374a5",
   "metadata": {},
   "outputs": [
    {
     "name": "stdin",
     "output_type": "stream",
     "text": [
      "Enter Number:  2\n"
     ]
    },
    {
     "name": "stdout",
     "output_type": "stream",
     "text": [
      "Number is Even\n"
     ]
    }
   ],
   "source": [
    "number = int(input(\"Enter Number: \"))\n",
    "if (number%2==0):\n",
    "    print(\"Number is Even\")\n",
    "else:\n",
    "    print(\"Number is Odd\")"
   ]
  },
  {
   "cell_type": "markdown",
   "id": "44fafdea-4ba3-4e95-924e-ccdb3d4fd2f9",
   "metadata": {},
   "source": [
    "8- Write a program to check whether a number is divisible by 7 or not. Show Answer"
   ]
  },
  {
   "cell_type": "code",
   "execution_count": 43,
   "id": "9ec23d71-2416-40c6-9ccb-0af879e08b13",
   "metadata": {},
   "outputs": [
    {
     "name": "stdin",
     "output_type": "stream",
     "text": [
      "Enter the Number:  00\n"
     ]
    },
    {
     "name": "stdout",
     "output_type": "stream",
     "text": [
      "number is divisable by 7\n"
     ]
    }
   ],
   "source": [
    "number = int(input(\"Enter the Number: \"))\n",
    "if (number%7==0):\n",
    "    print(\"number is divisable by 7\")\n",
    "else:\n",
    "    print(\"Error\")"
   ]
  },
  {
   "cell_type": "markdown",
   "id": "ae50c296-1bc8-4f50-988e-f0dfffce3788",
   "metadata": {},
   "source": [
    "9- Write a program to display \"Hello\" if a number entered by user is a multiple of five , otherwise print \"Bye\"."
   ]
  },
  {
   "cell_type": "code",
   "execution_count": 52,
   "id": "c1dd851b-bd6b-4aec-8448-060ad40f80c6",
   "metadata": {},
   "outputs": [
    {
     "name": "stdin",
     "output_type": "stream",
     "text": [
      "Enter Your Number:  12\n"
     ]
    },
    {
     "name": "stdout",
     "output_type": "stream",
     "text": [
      "Bye!\n"
     ]
    }
   ],
   "source": [
    "message = int(input(\"Enter Your Number: \"))\n",
    "if(message%5==0):\n",
    "    print(\"Hello!\")\n",
    "else:\n",
    "    print(\"Bye!\")\n"
   ]
  },
  {
   "cell_type": "markdown",
   "id": "33af89e7-eae5-48b5-8d4a-4650a74b2636",
   "metadata": {},
   "source": [
    "10- Write a program to display the last digit of a number."
   ]
  },
  {
   "cell_type": "code",
   "execution_count": 82,
   "id": "ffdfba74-32e6-4b14-b345-18aff418ca1e",
   "metadata": {},
   "outputs": [
    {
     "name": "stdin",
     "output_type": "stream",
     "text": [
      "Enter The Number:  23\n"
     ]
    },
    {
     "name": "stdout",
     "output_type": "stream",
     "text": [
      "The last digit is: 3\n"
     ]
    }
   ],
   "source": [
    "number = int(input(\"Enter The Number: \"))\n",
    "last_digit = number % 10\n",
    "print(\"The last digit is:\", last_digit)"
   ]
  },
  {
   "cell_type": "markdown",
   "id": "6d972462-f394-4143-b2d5-e70b1a1eb678",
   "metadata": {},
   "source": [
    "11- Take values of length and breadth of a rectangle from user and print if it is square or rectangle."
   ]
  },
  {
   "cell_type": "code",
   "execution_count": 64,
   "id": "bf2c6f00-49a8-4b11-8f76-048b993ce97d",
   "metadata": {},
   "outputs": [
    {
     "name": "stdin",
     "output_type": "stream",
     "text": [
      "ENter Lenght:  7\n",
      "ENter breadth:  9\n"
     ]
    },
    {
     "name": "stdout",
     "output_type": "stream",
     "text": [
      "rectangle\n"
     ]
    }
   ],
   "source": [
    "lenght = int(input(\"ENter Lenght: \"))\n",
    "breadht = int(input(\"ENter breadth: \"))\n",
    "if (lenght > breadht or lenght < breadht):\n",
    "    print(\"Rectangle!\")\n",
    "elif (lenght == breadht):\n",
    "    print(\"Square!\")\n",
    "    "
   ]
  },
  {
   "cell_type": "markdown",
   "id": "ea458af9-caa7-4a87-a10f-77fc169692aa",
   "metadata": {},
   "source": [
    "12- Take two int values from user and print greatest among them."
   ]
  },
  {
   "cell_type": "code",
   "execution_count": 70,
   "id": "f607bc0d-cc2a-4ba0-9fa3-eb621e78617f",
   "metadata": {},
   "outputs": [
    {
     "name": "stdin",
     "output_type": "stream",
     "text": [
      "Enter number1:  09\n",
      "Enter number2:  89\n"
     ]
    },
    {
     "name": "stdout",
     "output_type": "stream",
     "text": [
      "Number2 is Greatest\n"
     ]
    }
   ],
   "source": [
    "num_1 = int(input(\"Enter number1: \"))\n",
    "num_2 = int(input(\"Enter number2: \"))\n",
    "if (num_1 > num_2):\n",
    "    print(\"Number1 is Greatest\")\n",
    "elif(num_1 < num_2):\n",
    "    print(\"Number2 is Greatest\")"
   ]
  },
  {
   "cell_type": "markdown",
   "id": "e011e3f0-8901-4182-ae82-984336cea97f",
   "metadata": {},
   "source": [
    "13- \n",
    "A shop will give discount of 10% if the cost of purchased quantity is more than 1000. Ask user for quantity Suppose, one unit wil cost 100. Judge and print total cost for use"
   ]
  },
  {
   "cell_type": "code",
   "execution_count": 88,
   "id": "33bd1030-e4bb-454a-bef7-30fab5c8e007",
   "metadata": {},
   "outputs": [
    {
     "name": "stdin",
     "output_type": "stream",
     "text": [
      "Enter Cost Price:  1300\n"
     ]
    },
    {
     "name": "stdout",
     "output_type": "stream",
     "text": [
      "117000.0\n"
     ]
    }
   ],
   "source": [
    "Quantity = int(input(\"Enter Cost Price: \"))\n",
    " # if ((Quantity > 1000)/0.1):\n",
    "    # print(\"Get Discount\")\n",
    "# else:\n",
    "    # print(\"Error\")\n",
    "price = 100\n",
    "total = Quantity * price\n",
    "if (Quantity > 1000):\n",
    "    discount = total * 0.1\n",
    "    final_val = total - discount\n",
    "    print(final_val)\n",
    "else:\n",
    "    print(total)"
   ]
  },
  {
   "cell_type": "markdown",
   "id": "88e161d5-871f-462f-9f3b-669e0848d69e",
   "metadata": {},
   "source": [
    "14- A school has following rules for grading system:\n",
    "a. Below 25 - F\n",
    "\n",
    "b. 25 to 45 - E\n",
    "\n",
    "c. 45 to 50 - D\n",
    "\n",
    "d. 50 to 60 - C\n",
    "\n",
    "e. 60 to 80 - B\n",
    "\n",
    "f. Above 80 - A\n",
    "\n",
    "Ask user to enter marks and print the corresponding grade"
   ]
  },
  {
   "cell_type": "code",
   "execution_count": 96,
   "id": "68842d9a-486f-4933-9507-d9eb85852b15",
   "metadata": {},
   "outputs": [
    {
     "name": "stdin",
     "output_type": "stream",
     "text": [
      "Enter Your Number:  34\n"
     ]
    },
    {
     "name": "stdout",
     "output_type": "stream",
     "text": [
      "You Got E Grade\n"
     ]
    }
   ],
   "source": [
    "number = int(input(\"Enter Your Number: \"))\n",
    "if (number >= 80):\n",
    "    print(\"You Got A Grade\")\n",
    "if (number > 60 and number < 80):\n",
    "    print(\"You Got B Grade\")\n",
    "if (number > 50 and number < 60):\n",
    "    print(\"You Got C Grade\")\n",
    "if (number > 45 and number < 50):\n",
    "    print(\"You Got D Grade\")\n",
    "if (number > 25 and number < 45):\n",
    "    print(\"You Got E Grade\")\n",
    "elif(number <= 25):\n",
    "    print(\"You Got F Grade\")"
   ]
  },
  {
   "cell_type": "markdown",
   "id": "d978a25d-2710-4fb2-a9a6-a08d8e0fba8e",
   "metadata": {},
   "source": [
    "14)A student will not be allowed to sit in exam if his/her attendence is less than 75%.\n",
    "\n",
    "Take following input from user\n",
    "\n",
    "Number of classes held\n",
    "\n",
    "Number of classes attended.\n",
    "\n",
    "And print\n",
    "\n",
    "percentage of class attended\n",
    "\n",
    "Is student is allowed to sit in exam or not"
   ]
  },
  {
   "cell_type": "code",
   "execution_count": 140,
   "id": "602d07aa-a7f9-4f8e-bf02-6f52610161e6",
   "metadata": {},
   "outputs": [
    {
     "name": "stdin",
     "output_type": "stream",
     "text": [
      "Enter number classes:  100\n",
      "Enter Attend classes:  89\n"
     ]
    },
    {
     "name": "stdout",
     "output_type": "stream",
     "text": [
      "89\n",
      "YOu sit\n"
     ]
    }
   ],
   "source": [
    "classes = int(input(\"Enter number classes: \"))\n",
    "NOCA = int(input(\"Enter Attend classes: \"))\n",
    "persentage = int((NOCA/classes)*100)\n",
    "print(persentage)\n",
    "if (persentage >= 75):\n",
    "    print(\"You can sit in Exam\")\n",
    "else:\n",
    "    print(\"Not Eligible\")\n",
    "\n",
    "    "
   ]
  },
  {
   "cell_type": "markdown",
   "id": "2ea74d5b-56b8-4646-b04f-18e7350c3979",
   "metadata": {},
   "source": [
    "15- Modify the above question to allow student to sit if he/she has medical cause. Ask user if he/she has medical cause or not ( 'Y' or 'N' ) and print accordingly"
   ]
  },
  {
   "cell_type": "code",
   "execution_count": 9,
   "id": "af4f3c8a-049a-469b-b138-3e55d91cc7dc",
   "metadata": {},
   "outputs": [
    {
     "name": "stdin",
     "output_type": "stream",
     "text": [
      "Enter your attendance percentage:  67\n",
      "Do you have a medical cause? (Y/N):  Y\n"
     ]
    },
    {
     "name": "stdout",
     "output_type": "stream",
     "text": [
      "Allowed to sit in exam\n"
     ]
    }
   ],
   "source": [
    "attendance = int(input(\"Enter your attendance percentage: \"))\n",
    "medical_cause = input(\"Do you have a medical cause? (Y/N): \")\n",
    "\n",
    "if (attendance >= 75):\n",
    "    print(\"Allowed to sit in exam\")\n",
    "elif (medical_cause == 'Y'):\n",
    "    print(\"Allowed to sit in exam\")\n",
    "else:\n",
    "    print(\"Not allowed to sit in exam\")\n"
   ]
  },
  {
   "cell_type": "markdown",
   "id": "7115611d-5048-497f-b063-a338426e7c78",
   "metadata": {},
   "source": [
    "16- Write a program to check if a year is leap year or not.\n",
    "If a year is divisible by 4 then it is leap year but if the year is century year like 2000, 1900, 2100 then it must be divisible by 400."
   ]
  },
  {
   "cell_type": "code",
   "execution_count": 19,
   "id": "42a5a586-69ea-40a8-bdc8-ce5040fdd9cf",
   "metadata": {},
   "outputs": [
    {
     "name": "stdin",
     "output_type": "stream",
     "text": [
      "Enter Year:  2016\n"
     ]
    },
    {
     "name": "stdout",
     "output_type": "stream",
     "text": [
      "This is a Leap Year\n"
     ]
    }
   ],
   "source": [
    "year = int(input(\"Enter Year: \"))\n",
    "\n",
    "if (year % 400 == 0):\n",
    "    print(\"This is a Leap Year\")\n",
    "elif (year % 100 == 0):\n",
    "    print(\"This is not a Leap Year\")\n",
    "elif (year % 4 == 0):\n",
    "    print(\"This is a Leap Year\")\n",
    "else:\n",
    "    print(\"This is not a Leap Year\")\n",
    "    "
   ]
  },
  {
   "cell_type": "markdown",
   "id": "5e1e573f-dffe-4957-b107-1ad2c1c7a03e",
   "metadata": {},
   "source": [
    "17- Ask user to enter age, gender ( M or F ), marital status ( Y or N ) and then using following rules print their place of service.\n",
    "if employee is female, then she will work only in urban areas.\n",
    "\n",
    "if employee is a male and age is in between 20 to 40 then he may work in anywhere\n",
    "\n",
    "if employee is male and age is in between 40 t0 60 then he will work in urban areas only.\n",
    "\n",
    "And any other input of age should print \"ERROR\""
   ]
  },
  {
   "cell_type": "code",
   "execution_count": 33,
   "id": "dcf67d92-22d4-419f-86cc-dd8535e55f73",
   "metadata": {},
   "outputs": [
    {
     "name": "stdin",
     "output_type": "stream",
     "text": [
      "Enter Your Age:  67\n",
      "Enter Your Gender? (M/F):  M\n",
      "Enter Your Maritial Status? (Y/N):  Y\n"
     ]
    },
    {
     "name": "stdout",
     "output_type": "stream",
     "text": [
      "Error\n"
     ]
    }
   ],
   "source": [
    "# gen_m = male \n",
    "# gen_f = female\n",
    "age = int(input(\"Enter Your Age: \"))\n",
    "gender = input(\"Enter Your Gender? (M/F): \")\n",
    "marital = input(\"Enter Your Maritial Status? (Y/N): \")\n",
    "\n",
    "if (gender == 'F' or gender == 'f'):\n",
    "    print(\"You will work in Urban areas\")\n",
    "elif(age>20 and age<40):\n",
    "    print(\"You can work anywhere\")\n",
    "elif(age>40 and age<60):\n",
    "    print(\"You can work in Urban Areas\")\n",
    "else:\n",
    "    print(\"Error\")\n",
    "    "
   ]
  },
  {
   "cell_type": "markdown",
   "id": "1341a42d-1ca8-4581-8153-11ee5889627a",
   "metadata": {},
   "source": [
    "18- Write a program to calculate the electricity bill (accept number of unit from user) according to the following criteria : Unit Price\n",
    "uptp 100 units no charge Next 200 units Rs 5 per unit After 200 units Rs 10 per unit (For example if input unit is 350 than total bill amount is Rs.3500 (For example if input unit is 97 than total bill amount is Rs.0 (For example if input unit is 150 than total bill amount is Rs.750"
   ]
  },
  {
   "cell_type": "code",
   "execution_count": 40,
   "id": "adb2cacf-962c-467a-9dd7-59515c4d9a65",
   "metadata": {},
   "outputs": [
    {
     "name": "stdin",
     "output_type": "stream",
     "text": [
      "Enter number of units:  5600\n"
     ]
    },
    {
     "name": "stdout",
     "output_type": "stream",
     "text": [
      "Your Bill amount is:  54000\n"
     ]
    }
   ],
   "source": [
    "units = int(input(\"Enter number of units: \"))\n",
    "\n",
    "if (units <= 100):\n",
    "    bill = 0\n",
    "elif (units <= 300):\n",
    "    bill = (units - 100) * 5\n",
    "else:\n",
    "    bill = (200 * 5)+(units - 300) * 10\n",
    "print(\"Your Bill amount is: \", bill)"
   ]
  },
  {
   "cell_type": "markdown",
   "id": "555647bc-40fd-430d-9dca-b6fbee5083a1",
   "metadata": {},
   "source": [
    "19- Take input of age of 3 people by user and determine oldest and youngest among them."
   ]
  },
  {
   "cell_type": "code",
   "execution_count": 50,
   "id": "d1dd0bc9-d496-438f-9b3d-47c0cac5c539",
   "metadata": {},
   "outputs": [
    {
     "name": "stdin",
     "output_type": "stream",
     "text": [
      "Enter Age of Man1:  56\n",
      "Enter Age of Man2:  34\n",
      "Enter Age of Man3:  23\n"
     ]
    },
    {
     "name": "stdout",
     "output_type": "stream",
     "text": [
      "Man1 is oldest\n",
      "Man3 is Youngest\n"
     ]
    }
   ],
   "source": [
    "man1 = int(input(\"Enter Age of Man1: \"))\n",
    "man2 = int(input(\"Enter Age of Man2: \"))\n",
    "man3 = int(input(\"Enter Age of Man3: \"))\n",
    "if (man1 > man2 and man1 > man3):\n",
    "    print(\"Man1 is oldest\")\n",
    "elif(man2> man1 and man2> man3):\n",
    "    print(\"Man2 is oldest\")\n",
    "elif (man3 > man1 and man3 > man2 ):\n",
    "    print(\"Man3 is Oldest\")\n",
    "else:\n",
    "    print(\"Error\")\n",
    "if(man1 < man2 and man1 < man3):\n",
    "    print(\"Man1 is Youngest\")\n",
    "elif(man2 < man1 and man2 < man3):\n",
    "    print(\"Man2 is Youngest\")\n",
    "elif(man3 < man1 and man3 < man2):\n",
    "    print(\"Man3 is Youngest\")\n",
    "else:\n",
    "    print(\"Error\")"
   ]
  },
  {
   "cell_type": "code",
   "execution_count": null,
   "id": "257b8787-8edf-4a40-a086-5160636f5f58",
   "metadata": {},
   "outputs": [],
   "source": []
  }
 ],
 "metadata": {
  "kernelspec": {
   "display_name": "Python 3 (ipykernel)",
   "language": "python",
   "name": "python3"
  },
  "language_info": {
   "codemirror_mode": {
    "name": "ipython",
    "version": 3
   },
   "file_extension": ".py",
   "mimetype": "text/x-python",
   "name": "python",
   "nbconvert_exporter": "python",
   "pygments_lexer": "ipython3",
   "version": "3.13.5"
  }
 },
 "nbformat": 4,
 "nbformat_minor": 5
}
