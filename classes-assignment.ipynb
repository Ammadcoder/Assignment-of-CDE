{
 "cells": [
  {
   "cell_type": "markdown",
   "id": "ddae2a89-150c-4880-af2e-69897db74023",
   "metadata": {},
   "source": [
    "-1 Write a Python program to create a class representing a Circle. Include methods to calculate its area and perimeter."
   ]
  },
  {
   "cell_type": "code",
   "execution_count": 3,
   "id": "98bdd7b7-a4f0-4b2a-898a-456b99994da3",
   "metadata": {},
   "outputs": [],
   "source": [
    "import math\n",
    "class circle():\n",
    "    def __init__(self,radius):\n",
    "        self.radius = radius\n",
    "\n",
    "    def area(self):\n",
    "        return math.pi*self.radius\n",
    "\n",
    "    def parimeter(self):\n",
    "        return 2*math.pi*self.radius\n",
    "\n",
    "    \n",
    "    "
   ]
  },
  {
   "cell_type": "code",
   "execution_count": 4,
   "id": "e55b46d4-dd62-430c-8d72-4a76176cf334",
   "metadata": {},
   "outputs": [],
   "source": [
    "cir_obj = circle(6)\n"
   ]
  },
  {
   "cell_type": "code",
   "execution_count": 5,
   "id": "576650e1-3a81-4c74-ab5e-8fcc90e2642e",
   "metadata": {},
   "outputs": [
    {
     "data": {
      "text/plain": [
       "18.84955592153876"
      ]
     },
     "execution_count": 5,
     "metadata": {},
     "output_type": "execute_result"
    }
   ],
   "source": [
    "cir_obj.area()"
   ]
  },
  {
   "cell_type": "code",
   "execution_count": 6,
   "id": "f56698ce-0b93-414f-b85a-63865e00a017",
   "metadata": {},
   "outputs": [
    {
     "data": {
      "text/plain": [
       "37.69911184307752"
      ]
     },
     "execution_count": 6,
     "metadata": {},
     "output_type": "execute_result"
    }
   ],
   "source": [
    "cir_obj.parimeter()"
   ]
  },
  {
   "cell_type": "markdown",
   "id": "854dae03-eeb3-4ef5-afc3-ad9dd107993a",
   "metadata": {},
   "source": [
    "2- Write a Python program to create a person class. Include attributes like name, country and date of birth. Implement a method to determine the person's age."
   ]
  },
  {
   "cell_type": "code",
   "execution_count": 7,
   "id": "f30aa1cd-51b6-46f1-8e02-97eda433321d",
   "metadata": {},
   "outputs": [],
   "source": [
    "from datetime import date\n",
    "from dateutil.relativedelta import relativedelta   # make sure to import\n",
    "\n",
    "class person():\n",
    "    def __init__(self, name, country, DOB):\n",
    "        self.name = name\n",
    "        self.country = country\n",
    "        self.DOB = DOB\n",
    "\n",
    "    def date_age(self):\n",
    "        current_date = date.today()\n",
    "        print(f\"age {relativedelta(current_date , self.DOB).years} years\")"
   ]
  },
  {
   "cell_type": "code",
   "execution_count": 8,
   "id": "5c8be5c8-8e20-4ccf-85a7-784f648754c0",
   "metadata": {},
   "outputs": [],
   "source": [
    "per_obj = person(\"Ammad\", \"Pak\", date(2006,7,4))"
   ]
  },
  {
   "cell_type": "code",
   "execution_count": 9,
   "id": "77cbf057-038e-41bf-abbe-738b54f2eb22",
   "metadata": {},
   "outputs": [
    {
     "name": "stdout",
     "output_type": "stream",
     "text": [
      "age 19 years\n"
     ]
    }
   ],
   "source": [
    "per_obj.date_age()"
   ]
  },
  {
   "cell_type": "markdown",
   "id": "e6952c4d-ba0f-4a0f-bdb8-4e713667ed17",
   "metadata": {},
   "source": [
    "3-  Write a Python program to create a calculator class. Include methods for basic arithmetic operations.\n"
   ]
  },
  {
   "cell_type": "code",
   "execution_count": 10,
   "id": "3bc6721b-93f1-41d3-8e14-38b1b2515bf6",
   "metadata": {},
   "outputs": [],
   "source": [
    "class calculator():\n",
    "\n",
    "    def __init__(self):\n",
    "        pass\n",
    "\n",
    "    def add(self, num1, num2):\n",
    "        print(f\"The addition of {num1} and {num2} is equal to {num1+num2}\")\n",
    "\n",
    "    def sub(self, num1, num2):\n",
    "        print(f\"The Substraction of {num1} and {num2} is equal to {num1-num2}\")\n",
    "\n",
    "    def mult(self, num1, num2):\n",
    "        print(f\"The Multiplication of {num1} and {num2} is equal to {num1*num2}\")\n",
    "\n",
    "    def div(self, num1, num2):\n",
    "        print(f\"The Division of {num1} and {num2} is equal to {num1/num2}\")"
   ]
  },
  {
   "cell_type": "code",
   "execution_count": 11,
   "id": "5fb6cb20-6fba-458b-89c6-800cfebac243",
   "metadata": {},
   "outputs": [],
   "source": [
    "calc_obj = calculator()"
   ]
  },
  {
   "cell_type": "code",
   "execution_count": 12,
   "id": "bf890c43-3173-42f9-8dbd-2504bf058935",
   "metadata": {},
   "outputs": [
    {
     "name": "stdout",
     "output_type": "stream",
     "text": [
      "The addition of 4 and 6 is equal to 10\n",
      "The Substraction of 4 and 6 is equal to -2\n",
      "The Multiplication of 4 and 6 is equal to 24\n",
      "The Division of 4 and 6 is equal to 0.6666666666666666\n"
     ]
    }
   ],
   "source": [
    "calc_obj.add(4, 6)\n",
    "calc_obj.sub(4, 6)\n",
    "calc_obj.mult(4, 6)\n",
    "calc_obj.div(4, 6)"
   ]
  },
  {
   "cell_type": "code",
   "execution_count": 13,
   "id": "ce8e74f3-49b1-4b53-b6ff-cd7a4ecaba53",
   "metadata": {},
   "outputs": [],
   "source": [
    "import modules as m\n"
   ]
  },
  {
   "cell_type": "code",
   "execution_count": 14,
   "id": "a55aa677-5d4c-415b-92cb-a68d7af820d1",
   "metadata": {},
   "outputs": [
    {
     "data": {
      "text/plain": [
       "3"
      ]
     },
     "execution_count": 14,
     "metadata": {},
     "output_type": "execute_result"
    }
   ],
   "source": [
    "m.add(1,2)"
   ]
  },
  {
   "cell_type": "code",
   "execution_count": 29,
   "id": "787364af-ac12-4fad-9f57-6cc590d10936",
   "metadata": {},
   "outputs": [
    {
     "name": "stdin",
     "output_type": "stream",
     "text": [
      "enter a prime num: 101\n"
     ]
    },
    {
     "ename": "NameError",
     "evalue": "name 'num1' is not defined",
     "output_type": "error",
     "traceback": [
      "\u001b[1;31m---------------------------------------------------------------------------\u001b[0m",
      "\u001b[1;31mNameError\u001b[0m                                 Traceback (most recent call last)",
      "Cell \u001b[1;32mIn[29], line 2\u001b[0m\n\u001b[0;32m      1\u001b[0m num \u001b[38;5;241m=\u001b[39m \u001b[38;5;28mint\u001b[39m(\u001b[38;5;28minput\u001b[39m(\u001b[38;5;124m\"\u001b[39m\u001b[38;5;124menter a prime num:\u001b[39m\u001b[38;5;124m\"\u001b[39m))\n\u001b[1;32m----> 2\u001b[0m num1 \u001b[38;5;241m<\u001b[39m\u001b[38;5;241m=\u001b[39m num\n\u001b[0;32m      3\u001b[0m num2 \u001b[38;5;241m>\u001b[39m\u001b[38;5;241m=\u001b[39m num\n\u001b[0;32m      4\u001b[0m \u001b[38;5;66;03m# def befPrime(num):\u001b[39;00m\n",
      "\u001b[1;31mNameError\u001b[0m: name 'num1' is not defined"
     ]
    }
   ],
   "source": [
    "num = int(input(\"enter a prime num:\"))\n",
    "num1 <= num\n",
    "num2 >= num\n",
    "# def befPrime(num):\n",
    "if (num1 < num % 2 >0):\n",
    "    print(num1)\n",
    "    \n",
    "# def aftPrime(num):\n",
    "if (num2 > num % 2 > 0):\n",
    "    print(num2)\n",
    "\n",
    "\n"
   ]
  },
  {
   "cell_type": "code",
   "execution_count": 32,
   "id": "f77c0063-ed26-4fae-bd4e-8d528eb05263",
   "metadata": {},
   "outputs": [
    {
     "name": "stdout",
     "output_type": "stream",
     "text": [
      "<function befPrime at 0x000001D29804C220> <function aftPrime at 0x000001D29804D300>\n"
     ]
    },
    {
     "ename": "TypeError",
     "evalue": "int() argument must be a string, a bytes-like object or a real number, not 'NoneType'",
     "output_type": "error",
     "traceback": [
      "\u001b[1;31m---------------------------------------------------------------------------\u001b[0m",
      "\u001b[1;31mTypeError\u001b[0m                                 Traceback (most recent call last)",
      "Cell \u001b[1;32mIn[32], line 20\u001b[0m\n\u001b[0;32m     16\u001b[0m         aft \u001b[38;5;241m+\u001b[39m\u001b[38;5;241m=\u001b[39m \u001b[38;5;241m1\u001b[39m\n\u001b[0;32m     18\u001b[0m     \u001b[38;5;28;01mreturn\u001b[39;00m[bef,aft]\n\u001b[1;32m---> 20\u001b[0m \u001b[38;5;28mprint\u001b[39m(\u001b[38;5;28mint\u001b[39m(prime_bef_aft(\u001b[38;5;241m100\u001b[39m)))  \u001b[38;5;66;03m# [97, 101]\u001b[39;00m\n\u001b[0;32m     21\u001b[0m \u001b[38;5;28mprint\u001b[39m(\u001b[38;5;28mint\u001b[39m(prime_bef_aft(\u001b[38;5;241m97\u001b[39m)))   \u001b[38;5;66;03m# [89, 101]\u001b[39;00m\n\u001b[0;32m     22\u001b[0m \u001b[38;5;28mprint\u001b[39m(\u001b[38;5;28mint\u001b[39m(prime_bef_aft(\u001b[38;5;241m101\u001b[39m)))\n",
      "\u001b[1;31mTypeError\u001b[0m: int() argument must be a string, a bytes-like object or a real number, not 'NoneType'"
     ]
    }
   ],
   "source": [
    "def is_prime(num):\n",
    "    if num <= 2:\n",
    "        return False\n",
    "    elif num%2 != 0:\n",
    "        return True\n",
    "    else:\n",
    "        return False\n",
    "\n",
    "def bef_aft_Prime(n):\n",
    "    bef = n-1\n",
    "    while bef >1 and not is_prime(bef):\n",
    "        bef -= 1\n",
    "\n",
    "    aft = n +1\n",
    "    while aft is not is_prime(aft):\n",
    "        aft += 1\n",
    "\n",
    "    return[bef,aft]\n",
    "\n",
    "print(int(prime_bef_aft(100)))  # [97, 101]\n",
    "print(int(prime_bef_aft(97)))   # [89, 101]\n",
    "print(int(prime_bef_aft(101)))"
   ]
  },
  {
   "cell_type": "code",
   "execution_count": 33,
   "id": "5fce7e09-2a98-4927-998d-d049771a1877",
   "metadata": {},
   "outputs": [
    {
     "name": "stdout",
     "output_type": "stream",
     "text": [
      "[97, 101]\n",
      "[89, 101]\n",
      "[97, 103]\n"
     ]
    }
   ],
   "source": [
    "def is_prime(num):\n",
    "    \"\"\"Check if a number is prime.\"\"\"\n",
    "    if num < 2:\n",
    "        return False\n",
    "    if num in (2, 3):\n",
    "        return True\n",
    "    if num % 2 == 0:\n",
    "        return False\n",
    "    for i in range(3, int(num**0.5) + 1, 2):\n",
    "        if num % i == 0:\n",
    "s            return False\n",
    "    return True\n",
    "\n",
    "\n",
    "def prime_bef_aft(n):\n",
    "    \"\"\"Return [largest prime before n, smallest prime after n].\"\"\"\n",
    "    # Find prime before n\n",
    "    bef = n - 1\n",
    "    while bef > 1 and not is_prime(bef):\n",
    "        bef -= 1\n",
    "\n",
    "    # Find prime after n\n",
    "    aft = n + 1\n",
    "    while not is_prime(aft):\n",
    "        aft += 1\n",
    "\n",
    "    return [bef, aft]\n",
    "\n",
    "\n",
    "# Examples\n",
    "print(prime_bef_aft(100))  # [97, 101]\n",
    "print(prime_bef_aft(97))   # [89, 101]\n",
    "print(prime_bef_aft(101))  # [97, 103]\n"
   ]
  },
  {
   "cell_type": "code",
   "execution_count": null,
   "id": "f2809a5e-d4ea-4afd-b93a-c5f1a909e51f",
   "metadata": {},
   "outputs": [],
   "source": []
  }
 ],
 "metadata": {
  "kernelspec": {
   "display_name": "Python 3 (ipykernel)",
   "language": "python",
   "name": "python3"
  },
  "language_info": {
   "codemirror_mode": {
    "name": "ipython",
    "version": 3
   },
   "file_extension": ".py",
   "mimetype": "text/x-python",
   "name": "python",
   "nbconvert_exporter": "python",
   "pygments_lexer": "ipython3",
   "version": "3.13.5"
  }
 },
 "nbformat": 4,
 "nbformat_minor": 5
}
