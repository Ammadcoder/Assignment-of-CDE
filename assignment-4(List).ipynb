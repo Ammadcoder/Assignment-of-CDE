{
 "cells": [
  {
   "cell_type": "markdown",
   "id": "5c6f542b-f72a-469b-82b7-949f8dacb8dd",
   "metadata": {},
   "source": [
    "## Program 1:\n"
   ]
  },
  {
   "cell_type": "code",
   "execution_count": 2,
   "id": "483193c7-2f84-4613-bd1b-49b5baaea80e",
   "metadata": {},
   "outputs": [
    {
     "name": "stdin",
     "output_type": "stream",
     "text": [
      "Enter elements separated by space:  10, 45, 67\n"
     ]
    },
    {
     "name": "stdout",
     "output_type": "stream",
     "text": [
      "Alternate elements are:\n",
      "10,\n",
      "67\n"
     ]
    }
   ],
   "source": [
    "user_input = input(\"Enter elements separated by space: \")\n",
    "list1 = user_input.split()\n",
    "\n",
    "print(\"Alternate elements are:\")\n",
    "for i in range(0, len(list), 2):\n",
    "    print(list1[i])"
   ]
  },
  {
   "cell_type": "markdown",
   "id": "8ba5bfe7-edc0-4601-a1b9-781cad1f115a",
   "metadata": {},
   "source": [
    "## Program 2:\n"
   ]
  },
  {
   "cell_type": "code",
   "execution_count": 5,
   "id": "105da30d-392d-456f-b670-b8fd6dca1e6b",
   "metadata": {},
   "outputs": [
    {
     "name": "stdin",
     "output_type": "stream",
     "text": [
      "Enter elements separated by space:  10 20 30 40\n"
     ]
    },
    {
     "name": "stdout",
     "output_type": "stream",
     "text": [
      "Reversed list: ['40', '30', '20', '10']\n"
     ]
    }
   ],
   "source": [
    "user_input = input(\"Enter elements separated by space: \")\n",
    "lst = user_input.split()\n",
    "reversed_list = lst[::-1]\n",
    "print(\"Reversed list:\", reversed_list)"
   ]
  },
  {
   "cell_type": "markdown",
   "id": "291fd94c-c637-4140-8732-da85a361a48d",
   "metadata": {},
   "source": [
    "## Program 3:\n"
   ]
  },
  {
   "cell_type": "code",
   "execution_count": 7,
   "id": "2592cda5-68c5-4977-9d99-1369bc9c4e4c",
   "metadata": {},
   "outputs": [
    {
     "name": "stdin",
     "output_type": "stream",
     "text": [
      "Enter numbers that separated by space:  67 44 09\n"
     ]
    },
    {
     "name": "stdout",
     "output_type": "stream",
     "text": [
      "Largest number is: 67\n"
     ]
    }
   ],
   "source": [
    "user_input = input(\"Enter numbers that separated by space: \")\n",
    "lst = [int(x) for x in user_input.split()]\n",
    "\n",
    "largest = lst[0]\n",
    "for num in lst:\n",
    "    if num > largest:\n",
    "        largest = num\n",
    "print(\"Largest number is:\", largest)"
   ]
  },
  {
   "cell_type": "markdown",
   "id": "eab92df3-67cf-4662-b59f-9cfc15ad6ca1",
   "metadata": {},
   "source": [
    "## Program 4:\n"
   ]
  },
  {
   "cell_type": "code",
   "execution_count": 19,
   "id": "8f2b5535-f40f-42f5-98de-9780499a53ed",
   "metadata": {},
   "outputs": [
    {
     "name": "stdin",
     "output_type": "stream",
     "text": [
      "Enter elements separated by space:  33 444 1112\n"
     ]
    },
    {
     "name": "stdout",
     "output_type": "stream",
     "text": [
      "Rotated list: ['1112', '33', '444']\n"
     ]
    }
   ],
   "source": [
    "user_input = input(\"Enter elements separated by space: \")\n",
    "list = user_input.split()\n",
    "rotation = [list[-1]] + list[:-1]\n",
    "print(\"Rotated list:\", rotation)"
   ]
  },
  {
   "cell_type": "markdown",
   "id": "60ca64ad-488d-4b7f-9a9c-4c8a9d956bc6",
   "metadata": {},
   "source": [
    "## Program 5:\n"
   ]
  },
  {
   "cell_type": "code",
   "execution_count": 23,
   "id": "60b9eb79-7ff0-47e3-95c7-5ebde9ba3fc1",
   "metadata": {},
   "outputs": [
    {
     "name": "stdin",
     "output_type": "stream",
     "text": [
      "Enter a string:  fege\n",
      "Enter the word to delete:  eg\n"
     ]
    },
    {
     "name": "stdout",
     "output_type": "stream",
     "text": [
      "Updated string: fe\n"
     ]
    }
   ],
   "source": [
    "text = input(\"Enter a string: \")\n",
    "word = input(\"Enter the word to delete: \")\n",
    "new_text = text.replace(word, \"\")\n",
    "print(\"Updated string:\", new_text)"
   ]
  },
  {
   "cell_type": "markdown",
   "id": "178b542e-3999-4db4-b771-df5e83370f40",
   "metadata": {},
   "source": [
    "## Program 6:"
   ]
  },
  {
   "cell_type": "code",
   "execution_count": 27,
   "id": "35b1bed5-e34a-479b-afed-d3c244905a72",
   "metadata": {},
   "outputs": [
    {
     "name": "stdin",
     "output_type": "stream",
     "text": [
      "Enter date in mm/dd/yyyy format:  3/2/2016\n"
     ]
    },
    {
     "name": "stdout",
     "output_type": "stream",
     "text": [
      "March 2, 2016\n"
     ]
    }
   ],
   "source": [
    "date = input(\"Enter date in mm/dd/yyyy format: \")\n",
    "month, day, year = date.split(\"/\")\n",
    "months = [\"January\", \"February\", \"March\", \"April\", \"May\", \"June\",\n",
    "          \"July\", \"August\", \"September\", \"October\", \"November\", \"December\"]\n",
    "month_name = months[int(month) - 1]\n",
    "print(f\"{month_name} {int(day)}, {year}\")"
   ]
  },
  {
   "cell_type": "markdown",
   "id": "89f54ac5-5bb8-48d9-8f7b-a1811ea5fe70",
   "metadata": {},
   "source": [
    "## Program 7:\n"
   ]
  },
  {
   "cell_type": "code",
   "execution_count": 31,
   "id": "3f624443-20b9-472b-829c-ed154a1f72c6",
   "metadata": {},
   "outputs": [
    {
     "name": "stdin",
     "output_type": "stream",
     "text": [
      "Enter a sentence:  amdm fjfj\n"
     ]
    },
    {
     "name": "stdout",
     "output_type": "stream",
     "text": [
      "Output: Amdm Fjfj\n"
     ]
    }
   ],
   "source": [
    "def capitalize_words(text):\n",
    "    return text.title()\n",
    "sentence = input(\"Enter a sentence: \")\n",
    "print(\"Output:\", capitalize_words(sentence))"
   ]
  },
  {
   "cell_type": "markdown",
   "id": "53654a31-9027-4147-b491-807a936356c9",
   "metadata": {},
   "source": [
    "## Program 8:\n",
    "\n"
   ]
  },
  {
   "cell_type": "code",
   "execution_count": 14,
   "id": "2357b9d9-0b71-4973-9072-e2c48a6c247b",
   "metadata": {},
   "outputs": [
    {
     "name": "stdout",
     "output_type": "stream",
     "text": [
      "2 11 7 20\n",
      "5 2 9 16\n",
      "8 3 10 21\n",
      "sum of row1 = 20\n",
      "sum of row2 = 16\n",
      "sum of row3 = 21\n"
     ]
    }
   ],
   "source": [
    "matrix = [\n",
    "    [2, 11, 7],\n",
    "    [5, 2, 9],\n",
    "    [8, 3, 10]\n",
    "]\n",
    "\n",
    "for i in range(len(matrix)):\n",
    "    row_sum = 0\n",
    "    for j in range(len(matrix[i])):\n",
    "        print(matrix[i][j], end=\" \")\n",
    "        row_sum += matrix[i][j]\n",
    "    print(row_sum) \n",
    "\n",
    "for i in range(len(matrix)):\n",
    "    print(f\"sum of row{i+1} = {sum(matrix[i])}\")\n",
    "\n"
   ]
  },
  {
   "cell_type": "markdown",
   "id": "d013db28-110c-4743-b1ba-4c6a5d06ebf4",
   "metadata": {},
   "source": [
    "## program 9:\n"
   ]
  },
  {
   "cell_type": "code",
   "execution_count": 16,
   "id": "dfcd4638-eca3-4832-96fe-f8cb53a9ad14",
   "metadata": {},
   "outputs": [
    {
     "name": "stdin",
     "output_type": "stream",
     "text": [
      "Enter number of rows:  3\n",
      "Enter number of columns:  3\n"
     ]
    },
    {
     "name": "stdout",
     "output_type": "stream",
     "text": [
      "Enter elements of first matrix:\n"
     ]
    },
    {
     "name": "stdin",
     "output_type": "stream",
     "text": [
      "A[1][1]:  2\n",
      "A[1][2]:  4\n",
      "A[1][3]:  5\n",
      "A[2][1]:  6\n",
      "A[2][2]:  2\n",
      "A[2][3]:  3\n",
      "A[3][1]:  4\n",
      "A[3][2]:  5\n",
      "A[3][3]:  6\n"
     ]
    },
    {
     "name": "stdout",
     "output_type": "stream",
     "text": [
      "\n",
      "Enter elements of second matrix:\n"
     ]
    },
    {
     "name": "stdin",
     "output_type": "stream",
     "text": [
      "B[1][1]:  1\n",
      "B[1][2]:  2\n",
      "B[1][3]:  3\n",
      "B[2][1]:  4\n",
      "B[2][2]:  5\n",
      "B[2][3]:  6\n",
      "B[3][1]:  7\n",
      "B[3][2]:  8\n",
      "B[3][3]:  9\n"
     ]
    },
    {
     "name": "stdout",
     "output_type": "stream",
     "text": [
      "\n",
      "Resultant Matrix (A + B):\n",
      "3 6 8 \n",
      "10 7 9 \n",
      "11 13 15 \n"
     ]
    }
   ],
   "source": [
    "\n",
    "m = int(input(\"Enter number of rows: \"))\n",
    "n = int(input(\"Enter number of columns: \"))\n",
    "\n",
    "print(\"Enter elements of first matrix:\")\n",
    "A = []\n",
    "for i in range(m):\n",
    "    row = []\n",
    "    for j in range(n):\n",
    "        num = int(input(f\"A[{i+1}][{j+1}]: \"))\n",
    "        row.append(num)\n",
    "    A.append(row)\n",
    "\n",
    "print(\"\\nEnter elements of second matrix:\")\n",
    "B = []\n",
    "for i in range(m):\n",
    "    row = []\n",
    "    for j in range(n):\n",
    "        num = int(input(f\"B[{i+1}][{j+1}]: \"))\n",
    "        row.append(num)\n",
    "    B.append(row)\n",
    "C = []\n",
    "for i in range(m):\n",
    "    row = []\n",
    "    for j in range(n):\n",
    "        row.append(A[i][j] + B[i][j])\n",
    "    C.append(row)\n",
    "print(\"\\nResultant Matrix (A + B):\")\n",
    "for row in C:\n",
    "    for val in row:\n",
    "        print(val, end=\" \")\n",
    "    print()"
   ]
  },
  {
   "cell_type": "markdown",
   "id": "ade0be0c-16fe-4a20-8a43-3959d985a91b",
   "metadata": {},
   "source": [
    "## Program 10:\n"
   ]
  },
  {
   "cell_type": "code",
   "execution_count": 20,
   "id": "4d4db459-cab9-4389-b578-3c3e9dc61203",
   "metadata": {},
   "outputs": [
    {
     "name": "stdin",
     "output_type": "stream",
     "text": [
      "Enter rows of first matrix:  2\n",
      "Enter columns of first matrix:  3\n",
      "Enter columns of second matrix:  2\n"
     ]
    },
    {
     "name": "stdout",
     "output_type": "stream",
     "text": [
      "\n",
      "Enter first matrix:\n"
     ]
    },
    {
     "name": "stdin",
     "output_type": "stream",
     "text": [
      " 22 33 44\n",
      " 11 22 33\n"
     ]
    },
    {
     "name": "stdout",
     "output_type": "stream",
     "text": [
      "\n",
      "Enter second matrix:\n"
     ]
    },
    {
     "name": "stdin",
     "output_type": "stream",
     "text": [
      " 11 22 33\n",
      " 44 33 66\n",
      " 21 43 54\n"
     ]
    },
    {
     "name": "stdout",
     "output_type": "stream",
     "text": [
      "\n",
      "Resultant Matrix:\n",
      "2618 3465\n",
      "1782 2387\n"
     ]
    }
   ],
   "source": [
    "m = int(input(\"Enter rows of first matrix: \"))\n",
    "n = int(input(\"Enter columns of first matrix: \"))\n",
    "p = int(input(\"Enter columns of second matrix: \"))\n",
    "\n",
    "print(\"\\nEnter first matrix:\")\n",
    "A = []\n",
    "for i in range(m):\n",
    "    row = list(map(int, input().split()))\n",
    "    A.append(row)\n",
    "\n",
    "print(\"\\nEnter second matrix:\")\n",
    "B = []\n",
    "for i in range(n):\n",
    "    row = list(map(int, input().split()))\n",
    "    B.append(row)\n",
    "C = [[0] * p for _ in range(m)]\n",
    "for i in range(m):\n",
    "    for j in range(p):\n",
    "        for k in range(n):\n",
    "            C[i][j] += A[i][k] * B[k][j]\n",
    "print(\"\\nResultant Matrix:\")\n",
    "for row in C:\n",
    "    print(*row)"
   ]
  },
  {
   "cell_type": "code",
   "execution_count": null,
   "id": "c22c9138-071f-40af-b326-6481ad662c69",
   "metadata": {},
   "outputs": [],
   "source": []
  }
 ],
 "metadata": {
  "kernelspec": {
   "display_name": "Python 3 (ipykernel)",
   "language": "python",
   "name": "python3"
  },
  "language_info": {
   "codemirror_mode": {
    "name": "ipython",
    "version": 3
   },
   "file_extension": ".py",
   "mimetype": "text/x-python",
   "name": "python",
   "nbconvert_exporter": "python",
   "pygments_lexer": "ipython3",
   "version": "3.13.5"
  }
 },
 "nbformat": 4,
 "nbformat_minor": 5
}
