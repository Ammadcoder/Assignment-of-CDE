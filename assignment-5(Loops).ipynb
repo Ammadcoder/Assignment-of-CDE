{
 "cells": [
  {
   "cell_type": "markdown",
   "id": "48d82666-6083-4623-a799-ca058cd3aefb",
   "metadata": {},
   "source": [
    "## Program 1:"
   ]
  },
  {
   "cell_type": "code",
   "execution_count": 2,
   "id": "f792d59d-268a-4ace-a081-edaadcb41bf5",
   "metadata": {},
   "outputs": [
    {
     "name": "stdout",
     "output_type": "stream",
     "text": [
      "1\n",
      "2\n",
      "3\n",
      "4\n",
      "5\n",
      "6\n",
      "7\n",
      "8\n",
      "9\n",
      "10\n"
     ]
    }
   ],
   "source": [
    "for i in range(1, 11):\n",
    "    print(i)"
   ]
  },
  {
   "cell_type": "markdown",
   "id": "e5d0cdb4-621c-47f4-b6c7-0d9e4435c038",
   "metadata": {},
   "source": [
    "## Program 2:\n"
   ]
  },
  {
   "cell_type": "code",
   "execution_count": 3,
   "id": "51961eee-377c-49f8-85a9-b9d78be22cd4",
   "metadata": {},
   "outputs": [
    {
     "name": "stdout",
     "output_type": "stream",
     "text": [
      "20 19 18 17 16 15 14 13 12 11 10 9 8 7 6 5 4 3 2 1 "
     ]
    }
   ],
   "source": [
    "i = 20\n",
    "while i >= 1:\n",
    "    print(i, end=\" \")\n",
    "    i -= 1"
   ]
  },
  {
   "cell_type": "markdown",
   "id": "383c6884-d737-42c7-8450-428f923e6721",
   "metadata": {},
   "source": [
    "## program 3:"
   ]
  },
  {
   "cell_type": "code",
   "execution_count": 12,
   "id": "102b308b-1d93-4631-a5e7-8ca7e20d387d",
   "metadata": {},
   "outputs": [
    {
     "name": "stdout",
     "output_type": "stream",
     "text": [
      "2 4 6 8 10 "
     ]
    }
   ],
   "source": [
    "i = 2\n",
    "while i <= 10:\n",
    "    print(i, end=\" \")\n",
    "    i += 2"
   ]
  },
  {
   "cell_type": "markdown",
   "id": "5aa8885e-cbda-47ae-8d7d-0f8933a6fe93",
   "metadata": {},
   "source": [
    "## program 4:\n"
   ]
  },
  {
   "cell_type": "code",
   "execution_count": 4,
   "id": "86ba142f-1b04-4f9d-8e60-3900d4e13086",
   "metadata": {},
   "outputs": [
    {
     "name": "stdin",
     "output_type": "stream",
     "text": [
      "Enter a number:  14\n"
     ]
    },
    {
     "name": "stdout",
     "output_type": "stream",
     "text": [
      "1 2 3 4 5 6 7 8 9 10 11 12 13 14 "
     ]
    }
   ],
   "source": [
    "n = int(input(\"Enter a number: \"))\n",
    "i = 1\n",
    "while i <= n:\n",
    "    print(i, end=\" \")\n",
    "    i += 1"
   ]
  },
  {
   "cell_type": "markdown",
   "id": "d0201b56-7330-4f4e-a516-b54beb139a18",
   "metadata": {},
   "source": [
    "## Program 5:\n"
   ]
  },
  {
   "cell_type": "code",
   "execution_count": 9,
   "id": "244f9020-e6eb-4374-939b-1b4e95e6b5bb",
   "metadata": {},
   "outputs": [
    {
     "name": "stdin",
     "output_type": "stream",
     "text": [
      "Enter a number:  23\n"
     ]
    },
    {
     "name": "stdout",
     "output_type": "stream",
     "text": [
      "1 3 5 7 9 11 13 15 17 19 21 23 "
     ]
    }
   ],
   "source": [
    "number = int(input(\"Enter a number: \"))\n",
    "i = 1\n",
    "while i <= number:\n",
    "    print(i, end=\" \")\n",
    "    i += 2"
   ]
  },
  {
   "cell_type": "markdown",
   "id": "111017dc-d10f-4460-b40f-4a2b65565942",
   "metadata": {},
   "source": [
    "## Program 6:"
   ]
  },
  {
   "cell_type": "code",
   "execution_count": 14,
   "id": "740fa72f-2553-4fc7-b743-d503c7592f9a",
   "metadata": {},
   "outputs": [
    {
     "name": "stdout",
     "output_type": "stream",
     "text": [
      "Happy Birthday!\n",
      "Happy Birthday!\n",
      "Happy Birthday!\n",
      "Happy Birthday!\n",
      "Happy Birthday!\n"
     ]
    }
   ],
   "source": [
    "name = \"Happy Birthday!\"\n",
    "for i in range(1, 6):\n",
    "    print(name)"
   ]
  },
  {
   "cell_type": "markdown",
   "id": "8991ec2c-97b2-4706-b900-21216fe85855",
   "metadata": {},
   "source": [
    "## Program 7:\n"
   ]
  },
  {
   "cell_type": "code",
   "execution_count": 16,
   "id": "d5ff38a6-f460-46ac-a003-91e622ca01ec",
   "metadata": {},
   "outputs": [
    {
     "name": "stdin",
     "output_type": "stream",
     "text": [
      "Enter the Number:  3\n"
     ]
    },
    {
     "name": "stdout",
     "output_type": "stream",
     "text": [
      "1 4 9 "
     ]
    }
   ],
   "source": [
    "number = int(input(\"Enter the Number: \"))\n",
    "i = 1\n",
    "while i <= number:\n",
    "    print(i * i, end=\" \")\n",
    "    i += 1"
   ]
  },
  {
   "cell_type": "markdown",
   "id": "29a8ec91-a7d7-4d60-813a-cbef29e532fa",
   "metadata": {},
   "source": [
    "## Program 8:\n"
   ]
  },
  {
   "cell_type": "code",
   "execution_count": 20,
   "id": "5c169286-353d-401e-b184-95e005e0ca07",
   "metadata": {},
   "outputs": [
    {
     "name": "stdin",
     "output_type": "stream",
     "text": [
      "Enter a number:  4\n"
     ]
    },
    {
     "name": "stdout",
     "output_type": "stream",
     "text": [
      "4 x 1 = 4\n",
      "4 x 2 = 8\n",
      "4 x 3 = 12\n",
      "4 x 4 = 16\n",
      "4 x 5 = 20\n",
      "4 x 6 = 24\n",
      "4 x 7 = 28\n",
      "4 x 8 = 32\n",
      "4 x 9 = 36\n",
      "4 x 10 = 40\n"
     ]
    }
   ],
   "source": [
    "num = int(input(\"Enter a number: \"))\n",
    "i = 1\n",
    "while i <= 10:\n",
    "    print(num, \"x\", i, \"=\", num * i)\n",
    "    i += 1\n"
   ]
  },
  {
   "cell_type": "markdown",
   "id": "c061d54e-3f46-4759-af9e-84c9fb3639f2",
   "metadata": {},
   "source": [
    "## Program 9:"
   ]
  },
  {
   "cell_type": "code",
   "execution_count": 26,
   "id": "c08429d1-eeec-401d-b49b-46036af5e99c",
   "metadata": {},
   "outputs": [
    {
     "name": "stdout",
     "output_type": "stream",
     "text": [
      "3 8 13 18 23 28 33 38 "
     ]
    }
   ],
   "source": [
    "a = 3\n",
    "d = 5\n",
    "n = 8\n",
    "\n",
    "i = 0\n",
    "while i < n:\n",
    "    term = a + i * d\n",
    "    print(term, end=\" \")\n",
    "    i += 1"
   ]
  },
  {
   "cell_type": "markdown",
   "id": "93e3e2c6-1edc-4f1a-bb2f-4a5a69e5da8f",
   "metadata": {},
   "source": [
    "## Program 10:"
   ]
  },
  {
   "cell_type": "code",
   "execution_count": 27,
   "id": "7ac2c8f4-ff02-4cb4-8002-ba6f698b3495",
   "metadata": {},
   "outputs": [
    {
     "name": "stdout",
     "output_type": "stream",
     "text": [
      "6 18 54 162 486 1458 4374 "
     ]
    }
   ],
   "source": [
    "a = 6\n",
    "r = 3       \n",
    "n = 7      \n",
    "\n",
    "i = 0\n",
    "while i < n:\n",
    "    term = a * (r ** i)\n",
    "    print(term, end=\" \")\n",
    "    i += 1"
   ]
  },
  {
   "cell_type": "markdown",
   "id": "8023385c-9f13-4587-8e1d-42999193ef4b",
   "metadata": {},
   "source": [
    "## Program 11:\n"
   ]
  },
  {
   "cell_type": "code",
   "execution_count": 32,
   "id": "2078fcd9-02df-4fdf-931b-42436c755815",
   "metadata": {},
   "outputs": [
    {
     "name": "stdin",
     "output_type": "stream",
     "text": [
      "Enter a positive integer:  34\n"
     ]
    },
    {
     "name": "stdout",
     "output_type": "stream",
     "text": [
      "The sum of numbers from 1 to 34 is: 595\n"
     ]
    }
   ],
   "source": [
    "number = int(input(\"Enter a positive integer: \"))\n",
    "total = 0\n",
    "i = 1\n",
    "\n",
    "while i <= number:\n",
    "    total += i\n",
    "    i += 1\n",
    "\n",
    "print(\"The sum of numbers from 1 to\", number, \"is:\", total)"
   ]
  },
  {
   "cell_type": "markdown",
   "id": "8f397884-9382-41d3-a17d-2f031a4a0e83",
   "metadata": {},
   "source": [
    "## Program 12:\n"
   ]
  },
  {
   "cell_type": "code",
   "execution_count": 35,
   "id": "fe7dca86-5892-4b27-8e61-88e37f636cb2",
   "metadata": {},
   "outputs": [
    {
     "name": "stdin",
     "output_type": "stream",
     "text": [
      "Enter a positive integer:  5\n"
     ]
    },
    {
     "name": "stdout",
     "output_type": "stream",
     "text": [
      "The sum of reciprocals from 1 to 5 is: 2.283333333333333\n"
     ]
    }
   ],
   "source": [
    "number = int(input(\"Enter a positive integer: \"))\n",
    "total = 0\n",
    "i = 1\n",
    "\n",
    "while i <= number:\n",
    "    total += 1 / i\n",
    "    i += 1\n",
    "\n",
    "print(\"The sum of reciprocals from 1 to\", number, \"is:\", total)"
   ]
  },
  {
   "cell_type": "markdown",
   "id": "91de9447-b2f8-43aa-9bde-1f4a2259eb76",
   "metadata": {},
   "source": [
    "## Program 13:"
   ]
  },
  {
   "cell_type": "code",
   "execution_count": 37,
   "id": "a686a359-280e-4ed6-a9c2-870fda20c241",
   "metadata": {},
   "outputs": [
    {
     "name": "stdin",
     "output_type": "stream",
     "text": [
      "Enter number 1:  1\n",
      "Enter number 2:  2\n",
      "Enter number 3:  3\n",
      "Enter number 4:  4\n",
      "Enter number 5:  5\n"
     ]
    },
    {
     "name": "stdout",
     "output_type": "stream",
     "text": [
      "The final running total is: 25\n"
     ]
    }
   ],
   "source": [
    "total = 0\n",
    "count = 1\n",
    "\n",
    "while count <= 5:\n",
    "    num = int(input(\"Enter number \" + str(count) + \": \"))\n",
    "    total += number\n",
    "    count += 1\n",
    "\n",
    "print(\"The final running total is:\", total)\n"
   ]
  },
  {
   "cell_type": "markdown",
   "id": "d43f49e5-c4f9-4097-b6cc-4ba4db3cd18f",
   "metadata": {},
   "source": [
    "## Program 14:"
   ]
  },
  {
   "cell_type": "code",
   "execution_count": 40,
   "id": "77ab9b4b-62ee-4d6c-a223-19744a2ebf50",
   "metadata": {},
   "outputs": [
    {
     "name": "stdin",
     "output_type": "stream",
     "text": [
      "Enter a number:  4\n"
     ]
    },
    {
     "name": "stdout",
     "output_type": "stream",
     "text": [
      "Factorial of 4 is: 24\n"
     ]
    }
   ],
   "source": [
    "number = int(input(\"Enter a number: \"))\n",
    "factorial = 1\n",
    "i = 1\n",
    "\n",
    "while i <= number:\n",
    "    factorial *= i\n",
    "    i += 1\n",
    "\n",
    "print(\"Factorial of\", number, \"is:\", factorial)"
   ]
  },
  {
   "cell_type": "markdown",
   "id": "de9ce261-b8eb-4451-aa5a-62340b5fbd94",
   "metadata": {},
   "source": [
    "## Program 15:\n"
   ]
  },
  {
   "cell_type": "code",
   "execution_count": 42,
   "id": "627164ac-b243-45b5-8ea0-d74dd6ae723a",
   "metadata": {},
   "outputs": [
    {
     "name": "stdin",
     "output_type": "stream",
     "text": [
      "Enter the base number:  3\n",
      "Enter the exponent:  2\n"
     ]
    },
    {
     "name": "stdout",
     "output_type": "stream",
     "text": [
      "3.0 raised to the power 2 is: 9.0\n"
     ]
    }
   ],
   "source": [
    "base = float(input(\"Enter the base number: \"))\n",
    "exponent = int(input(\"Enter the exponent: \"))\n",
    "\n",
    "result = 1\n",
    "\n",
    "if exponent > 0:\n",
    "    for i in range(exp):\n",
    "        result *= base\n",
    "elif exponent < 0:\n",
    "    for i in range(-exp):\n",
    "        result *= base\n",
    "    result = 1 / result\n",
    "print(f\"{base} raised to the power {exponent} is: {result}\")\n"
   ]
  },
  {
   "cell_type": "code",
   "execution_count": null,
   "id": "fcde22f6-ecf6-4230-b19b-1adb7e70dc71",
   "metadata": {},
   "outputs": [],
   "source": []
  }
 ],
 "metadata": {
  "kernelspec": {
   "display_name": "Python 3 (ipykernel)",
   "language": "python",
   "name": "python3"
  },
  "language_info": {
   "codemirror_mode": {
    "name": "ipython",
    "version": 3
   },
   "file_extension": ".py",
   "mimetype": "text/x-python",
   "name": "python",
   "nbconvert_exporter": "python",
   "pygments_lexer": "ipython3",
   "version": "3.13.5"
  }
 },
 "nbformat": 4,
 "nbformat_minor": 5
}
